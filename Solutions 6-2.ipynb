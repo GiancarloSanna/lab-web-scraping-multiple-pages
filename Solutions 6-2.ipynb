{
 "cells": [
  {
   "cell_type": "markdown",
   "id": "b8863854",
   "metadata": {},
   "source": [
    "# Importing libraries"
   ]
  },
  {
   "cell_type": "code",
   "execution_count": 1,
   "id": "8b6bc2ca",
   "metadata": {},
   "outputs": [],
   "source": [
    "from bs4 import BeautifulSoup\n",
    "import requests"
   ]
  },
  {
   "cell_type": "markdown",
   "id": "96c1f558",
   "metadata": {},
   "source": [
    "# Exercises"
   ]
  },
  {
   "cell_type": "markdown",
   "id": "9de93113",
   "metadata": {},
   "source": [
    "### Wikipedia Python"
   ]
  },
  {
   "cell_type": "markdown",
   "id": "f8bacb5e",
   "metadata": {},
   "source": [
    "Retrieve an arbitrary Wikipedia page of \"Python\" and create a list of links on that page:"
   ]
  },
  {
   "cell_type": "code",
   "execution_count": 2,
   "id": "35fe3921",
   "metadata": {},
   "outputs": [
    {
     "data": {
      "text/plain": [
       "200"
      ]
     },
     "execution_count": 2,
     "metadata": {},
     "output_type": "execute_result"
    }
   ],
   "source": [
    "# Loading the contents\n",
    "url = 'https://en.wikipedia.org/wiki/Python'\n",
    "response = requests.get(url, headers = {\"Accept-Language\": \"en-US\"})\n",
    "response.status_code"
   ]
  },
  {
   "cell_type": "code",
   "execution_count": 3,
   "id": "aff923c1",
   "metadata": {},
   "outputs": [],
   "source": [
    "# Parsing\n",
    "soup = BeautifulSoup(response.content, 'html.parser')"
   ]
  },
  {
   "cell_type": "code",
   "execution_count": 4,
   "id": "60bd3e9c",
   "metadata": {},
   "outputs": [],
   "source": [
    "links = []"
   ]
  },
  {
   "cell_type": "code",
   "execution_count": 5,
   "id": "bb23976d",
   "metadata": {},
   "outputs": [],
   "source": [
    "# Selecting all links\n",
    "selection = soup.select('#mw-content-text > div.mw-parser-output a')"
   ]
  },
  {
   "cell_type": "code",
   "execution_count": 6,
   "id": "18d63fa5",
   "metadata": {},
   "outputs": [],
   "source": [
    "# Getting the href out for all links\n",
    "for l in range(len(selection)):\n",
    "    links.append(selection[l].attrs['href'])"
   ]
  },
  {
   "cell_type": "code",
   "execution_count": 126,
   "id": "94a869f9",
   "metadata": {
    "scrolled": true
   },
   "outputs": [],
   "source": [
    "# links"
   ]
  },
  {
   "cell_type": "code",
   "execution_count": 8,
   "id": "fcc54437",
   "metadata": {},
   "outputs": [],
   "source": [
    "# Some miss the baselink and some arent actual links, we have to clean up a bit\n",
    "links_clean = []\n",
    "for i in links:\n",
    "    if i.startswith('/'):\n",
    "        links_clean.append('https://en.wiktionary.org'+i)\n",
    "    elif i.startswith('https:'):\n",
    "        links_clean.append(i)    "
   ]
  },
  {
   "cell_type": "code",
   "execution_count": 9,
   "id": "f7ac3d9c",
   "metadata": {},
   "outputs": [
    {
     "data": {
      "text/plain": [
       "['https://en.wiktionary.org/wiki/Python',\n",
       " 'https://en.wiktionary.org/wiki/python',\n",
       " 'https://en.wiktionary.org/w/index.php?title=Python&action=edit&section=1',\n",
       " 'https://en.wiktionary.org/wiki/Pythonidae',\n",
       " 'https://en.wiktionary.org/wiki/Python_(genus)',\n",
       " 'https://en.wiktionary.org/wiki/Python_(mythology)',\n",
       " 'https://en.wiktionary.org/w/index.php?title=Python&action=edit&section=2',\n",
       " 'https://en.wiktionary.org/wiki/Python_(programming_language)',\n",
       " 'https://en.wiktionary.org/wiki/CMU_Common_Lisp',\n",
       " 'https://en.wiktionary.org/wiki/PERQ#PERQ_3',\n",
       " 'https://en.wiktionary.org/w/index.php?title=Python&action=edit&section=3',\n",
       " 'https://en.wiktionary.org/wiki/Python_of_Aenus',\n",
       " 'https://en.wiktionary.org/wiki/Python_(painter)',\n",
       " 'https://en.wiktionary.org/wiki/Python_of_Byzantium',\n",
       " 'https://en.wiktionary.org/wiki/Python_of_Catana',\n",
       " 'https://en.wiktionary.org/wiki/Python_Anghelo',\n",
       " 'https://en.wiktionary.org/w/index.php?title=Python&action=edit&section=4',\n",
       " 'https://en.wiktionary.org/wiki/Python_(Efteling)',\n",
       " 'https://en.wiktionary.org/wiki/Python_(Busch_Gardens_Tampa_Bay)',\n",
       " 'https://en.wiktionary.org/wiki/Python_(Coney_Island,_Cincinnati,_Ohio)',\n",
       " 'https://en.wiktionary.org/w/index.php?title=Python&action=edit&section=5',\n",
       " 'https://en.wiktionary.org/wiki/Python_(automobile_maker)',\n",
       " 'https://en.wiktionary.org/wiki/Python_(Ford_prototype)',\n",
       " 'https://en.wiktionary.org/w/index.php?title=Python&action=edit&section=6',\n",
       " 'https://en.wiktionary.org/wiki/Python_(missile)',\n",
       " 'https://en.wiktionary.org/wiki/Python_(nuclear_primary)',\n",
       " 'https://en.wiktionary.org/wiki/Colt_Python',\n",
       " 'https://en.wiktionary.org/w/index.php?title=Python&action=edit&section=7',\n",
       " 'https://en.wiktionary.org/wiki/Python_(codename)',\n",
       " 'https://en.wiktionary.org/wiki/Python_(film)',\n",
       " 'https://en.wiktionary.org/wiki/Monty_Python',\n",
       " 'https://en.wiktionary.org/wiki/Python_(Monty)_Pictures',\n",
       " 'https://en.wiktionary.org/wiki/Timon_of_Phlius',\n",
       " 'https://en.wiktionary.org/w/index.php?title=Python&action=edit&section=8',\n",
       " 'https://en.wiktionary.org/wiki/Cython',\n",
       " 'https://en.wiktionary.org/wiki/Pyton',\n",
       " 'https://en.wiktionary.org/wiki/Pithon',\n",
       " 'https://en.wiktionary.org/wiki/File:Disambig_gray.svg',\n",
       " 'https://en.wiktionary.org/wiki/Help:Disambiguation',\n",
       " 'https://en.wikipedia.org/w/index.php?title=Special:WhatLinksHere/Python&namespace=0']"
      ]
     },
     "execution_count": 9,
     "metadata": {},
     "output_type": "execute_result"
    }
   ],
   "source": [
    "links_clean"
   ]
  },
  {
   "cell_type": "markdown",
   "id": "2937bf59",
   "metadata": {},
   "source": [
    "### United States Code"
   ]
  },
  {
   "cell_type": "markdown",
   "id": "9c133e3c",
   "metadata": {},
   "source": [
    "Find the number of titles that have changed in the United States Code since its last release point"
   ]
  },
  {
   "cell_type": "code",
   "execution_count": 10,
   "id": "b2e834cc",
   "metadata": {},
   "outputs": [
    {
     "data": {
      "text/plain": [
       "200"
      ]
     },
     "execution_count": 10,
     "metadata": {},
     "output_type": "execute_result"
    }
   ],
   "source": [
    "# Loading the contents\n",
    "url = 'http://uscode.house.gov/download/download.shtml'\n",
    "response = requests.get(url, headers = {\"Accept-Language\": \"en-US\"})\n",
    "response.status_code"
   ]
  },
  {
   "cell_type": "code",
   "execution_count": 11,
   "id": "99d8468b",
   "metadata": {},
   "outputs": [],
   "source": [
    "# Parsing\n",
    "soup = BeautifulSoup(response.content, 'html.parser')"
   ]
  },
  {
   "cell_type": "markdown",
   "id": "9b50851e",
   "metadata": {},
   "source": [
    "From looking at the page we know, that all titles of class usctitlechanged have been changed since the last release point."
   ]
  },
  {
   "cell_type": "code",
   "execution_count": 12,
   "id": "f3bc2e14",
   "metadata": {},
   "outputs": [],
   "source": [
    "titles = []\n",
    "for i in soup.select('.usctitlechanged'):\n",
    "    titles.append(i.text.split('.')[0].strip().replace('\\n','').replace(' ٭',''))"
   ]
  },
  {
   "cell_type": "code",
   "execution_count": 13,
   "id": "d29593c5",
   "metadata": {},
   "outputs": [
    {
     "data": {
      "text/plain": [
       "['Title 6 - Domestic Security',\n",
       " 'Title 7 - Agriculture',\n",
       " 'Title 15 - Commerce and Trade',\n",
       " 'Title 16 - Conservation',\n",
       " 'Title 18 - Crimes and Criminal Procedure',\n",
       " 'Title 25 - Indians',\n",
       " 'Title 28 - Judiciary and Judicial Procedure',\n",
       " 'Title 31 - Money and Finance',\n",
       " 'Title 34 - Crime Control and Law Enforcement',\n",
       " 'Title 35 - Patents',\n",
       " 'Title 40 - Public Buildings, Property, and Works',\n",
       " 'Title 42 - The Public Health and Welfare',\n",
       " 'Title 47 - Telecommunications',\n",
       " 'Title 49 - Transportation']"
      ]
     },
     "execution_count": 13,
     "metadata": {},
     "output_type": "execute_result"
    }
   ],
   "source": [
    "titles"
   ]
  },
  {
   "cell_type": "markdown",
   "id": "5f3d3df6",
   "metadata": {},
   "source": [
    "### FBI most wanted"
   ]
  },
  {
   "cell_type": "markdown",
   "id": "0584ee68",
   "metadata": {},
   "source": [
    "Create a Python list with the top ten FBI's Most Wanted names: url = 'https://www.fbi.gov/wanted/topten'"
   ]
  },
  {
   "cell_type": "code",
   "execution_count": 42,
   "id": "9279bb8b",
   "metadata": {},
   "outputs": [
    {
     "data": {
      "text/plain": [
       "200"
      ]
     },
     "execution_count": 42,
     "metadata": {},
     "output_type": "execute_result"
    }
   ],
   "source": [
    "# Loading the contents\n",
    "url = 'https://www.fbi.gov/wanted/topten'\n",
    "response = requests.get(url, headers = {\"Accept-Language\": \"en-US\"})\n",
    "response.status_code"
   ]
  },
  {
   "cell_type": "code",
   "execution_count": 43,
   "id": "a01423b4",
   "metadata": {},
   "outputs": [],
   "source": [
    "# Parsing\n",
    "soup = BeautifulSoup(response.content, 'html.parser')"
   ]
  },
  {
   "cell_type": "code",
   "execution_count": 58,
   "id": "036ce0db",
   "metadata": {},
   "outputs": [
    {
     "data": {
      "text/plain": [
       "'YULAN ADONAY ARCHAGA CARIAS'"
      ]
     },
     "execution_count": 58,
     "metadata": {},
     "output_type": "execute_result"
    }
   ],
   "source": [
    "# Testing selector\n",
    "soup.select(\"#query-results-0f737222c5054a81a120bce207b0446a > ul > li > h3 a\")[0].text"
   ]
  },
  {
   "cell_type": "code",
   "execution_count": 59,
   "id": "5a95e50e",
   "metadata": {},
   "outputs": [],
   "source": [
    "selection = soup.select(\"#query-results-0f737222c5054a81a120bce207b0446a > ul > li > h3 a\")"
   ]
  },
  {
   "cell_type": "code",
   "execution_count": 60,
   "id": "8579e851",
   "metadata": {},
   "outputs": [],
   "source": [
    "suspects = []"
   ]
  },
  {
   "cell_type": "code",
   "execution_count": 61,
   "id": "79e53bb5",
   "metadata": {},
   "outputs": [],
   "source": [
    "for i in range(len(selection)):\n",
    "    suspects.append(selection[i].text)    "
   ]
  },
  {
   "cell_type": "code",
   "execution_count": 62,
   "id": "b00032ea",
   "metadata": {},
   "outputs": [
    {
     "data": {
      "text/plain": [
       "['YULAN ADONAY ARCHAGA CARIAS',\n",
       " 'BHADRESHKUMAR CHETANBHAI PATEL',\n",
       " 'ALEJANDRO ROSALES CASTILLO',\n",
       " 'RUJA IGNATOVA',\n",
       " 'ARNOLDO JIMENEZ',\n",
       " 'OMAR ALEXANDER CARDENAS',\n",
       " 'ALEXIS FLORES',\n",
       " 'JOSE RODOLFO VILLARREAL-HERNANDEZ',\n",
       " 'MICHAEL JAMES PRATT',\n",
       " 'RAFAEL CARO-QUINTERO']"
      ]
     },
     "execution_count": 62,
     "metadata": {},
     "output_type": "execute_result"
    }
   ],
   "source": [
    "suspects"
   ]
  },
  {
   "cell_type": "markdown",
   "id": "10a1c48d",
   "metadata": {},
   "source": [
    "# For my practice later, can be ignored"
   ]
  },
  {
   "cell_type": "markdown",
   "id": "d7b0dbca",
   "metadata": {},
   "source": [
    "### Earthquakes\n",
    "Display the 20 latest earthquakes info (date, time, latitude, longitude and region name) by the EMSC as a pandas dataframe: url = 'https://www.emsc-csem.org/Earthquake/'"
   ]
  },
  {
   "cell_type": "code",
   "execution_count": 222,
   "id": "e2de283f",
   "metadata": {},
   "outputs": [],
   "source": [
    "# import pandas as pd"
   ]
  },
  {
   "cell_type": "code",
   "execution_count": 223,
   "id": "b37b0462",
   "metadata": {},
   "outputs": [],
   "source": [
    "# # Loading the contents\n",
    "# url = 'https://www.emsc-csem.org/Earthquake/'\n",
    "# response = requests.get(url, headers = {\"Accept-Language\": \"en-US\"})\n",
    "# response.status_code"
   ]
  },
  {
   "cell_type": "code",
   "execution_count": 224,
   "id": "ea248687",
   "metadata": {},
   "outputs": [],
   "source": [
    "# # Parsing\n",
    "# soup = BeautifulSoup(response.content, 'html.parser')"
   ]
  },
  {
   "cell_type": "code",
   "execution_count": 225,
   "id": "47f9072e",
   "metadata": {},
   "outputs": [],
   "source": [
    "# # Testing selector\n",
    "# soup.select('.ligne1')[0]"
   ]
  },
  {
   "cell_type": "code",
   "execution_count": 226,
   "id": "4b9578d2",
   "metadata": {},
   "outputs": [],
   "source": [
    "# selection = soup.select('.ligne1 a')[0].attrs['href']\n",
    "# selection"
   ]
  },
  {
   "cell_type": "code",
   "execution_count": 227,
   "id": "166537b7",
   "metadata": {},
   "outputs": [],
   "source": [
    "# # Empty list to fill in values\n",
    "# quakelist = []"
   ]
  },
  {
   "cell_type": "code",
   "execution_count": 228,
   "id": "5ebfbdff",
   "metadata": {},
   "outputs": [],
   "source": [
    "# for i in range(len(selection)):\n",
    "#     print(soup.select('.ligne1 a')[i].text.replace('\\xa0',' '))"
   ]
  },
  {
   "cell_type": "code",
   "execution_count": 229,
   "id": "7cae526d",
   "metadata": {},
   "outputs": [],
   "source": [
    "# for i in range(len(selection)):\n",
    "#     quakelist.append([\n",
    "#         pd.to_datetime(soup.select('.ligne1 a')[i].text.replace('\\xa0',' ')).strftime('%d.%m.%Y'),\n",
    "#         pd.to_datetime(soup.select('.ligne1 a')[i].text.replace('\\xa0',' ')).strftime('%H:%M:%S'),\n",
    "#         soup.select('.ligne1 .tabev1')[i].text.replace('\\xa0','') + ' ' + soup.select('.ligne1 .tabev2')[i].text.replace('\\xa0',''),\n",
    "#         soup.select('.ligne1 .tabev3')[i].get_text() + ' ' +  soup.select('.ligne1 .tabev5')[i].get_text().strip(),\n",
    "#         soup.select('.ligne1 .tb_region')[i].get_text().replace('\\xa0','')\n",
    "#     ])"
   ]
  },
  {
   "cell_type": "code",
   "execution_count": 230,
   "id": "dd3afa0c",
   "metadata": {},
   "outputs": [],
   "source": [
    "# # Making dataframe\n",
    "# quakes = pd.DataFrame(quakelist,columns = ['date','time','latitude','longitude','region name'] )"
   ]
  },
  {
   "cell_type": "code",
   "execution_count": 231,
   "id": "49c07d10",
   "metadata": {},
   "outputs": [],
   "source": [
    "# display(quakes)"
   ]
  },
  {
   "cell_type": "code",
   "execution_count": 232,
   "id": "acede3e1",
   "metadata": {},
   "outputs": [],
   "source": [
    "# quakes20 = df.sort_values(['Fee', 'Duration'],\n",
    "#               ascending = [False, True])"
   ]
  },
  {
   "cell_type": "code",
   "execution_count": 233,
   "id": "37b719d0",
   "metadata": {},
   "outputs": [],
   "source": [
    "# soup.select('td:nth-child(2)')[0].get_text()"
   ]
  },
  {
   "cell_type": "code",
   "execution_count": 234,
   "id": "9cd8ef8a",
   "metadata": {},
   "outputs": [],
   "source": [
    "# date = "
   ]
  },
  {
   "cell_type": "code",
   "execution_count": 235,
   "id": "43620d92",
   "metadata": {},
   "outputs": [],
   "source": [
    "#\\31 208755 > td.tabev6 > b > a"
   ]
  },
  {
   "cell_type": "code",
   "execution_count": 236,
   "id": "68b973e5",
   "metadata": {},
   "outputs": [],
   "source": [
    "#ong1 > table:nth-child(1) > tbody > tr > td:nth-child(1) > table > tbody > tr:nth-child(1) > td.point2"
   ]
  },
  {
   "cell_type": "markdown",
   "id": "5a533742",
   "metadata": {},
   "source": [
    "### Wikipedia languages"
   ]
  },
  {
   "cell_type": "markdown",
   "id": "2c24840e",
   "metadata": {},
   "source": [
    "List all language names and number of related articles in the order they appear in wikipedia.org: url = 'https://www.wikipedia.org/'"
   ]
  },
  {
   "cell_type": "code",
   "execution_count": 237,
   "id": "af963a5a",
   "metadata": {},
   "outputs": [],
   "source": [
    "# # Loading the contents\n",
    "# url = 'https://www.wikipedia.org/'\n",
    "# response = requests.get(url, headers = {\"Accept-Language\": \"en-US\"})\n",
    "# response.status_code"
   ]
  },
  {
   "cell_type": "code",
   "execution_count": 238,
   "id": "cc7a0f38",
   "metadata": {},
   "outputs": [],
   "source": [
    "# # Parsing\n",
    "# soup = BeautifulSoup(response.content, 'html.parser')"
   ]
  },
  {
   "cell_type": "code",
   "execution_count": 239,
   "id": "864b3cb9",
   "metadata": {},
   "outputs": [],
   "source": [
    "languages = []"
   ]
  },
  {
   "cell_type": "code",
   "execution_count": 218,
   "id": "d2f9c951",
   "metadata": {},
   "outputs": [],
   "source": [
    "# # Testing selector for headers\n",
    "# soup.select('#js-lang-lists > h2:nth-child(5)')[0].get_text().replace('\\n','').replace('+','').replace('articles','').replace('\\xa','')\n",
    "# # Every second header contains the number of articles"
   ]
  },
  {
   "cell_type": "code",
   "execution_count": 219,
   "id": "17616a5b",
   "metadata": {},
   "outputs": [],
   "source": [
    "# a = 'dasf'\n",
    "# a.replace('d','a')"
   ]
  },
  {
   "cell_type": "code",
   "execution_count": null,
   "id": "a12ff9f0",
   "metadata": {},
   "outputs": [],
   "source": []
  }
 ],
 "metadata": {
  "kernelspec": {
   "display_name": "Python 3 (ipykernel)",
   "language": "python",
   "name": "python3"
  },
  "language_info": {
   "codemirror_mode": {
    "name": "ipython",
    "version": 3
   },
   "file_extension": ".py",
   "mimetype": "text/x-python",
   "name": "python",
   "nbconvert_exporter": "python",
   "pygments_lexer": "ipython3",
   "version": "3.9.13"
  }
 },
 "nbformat": 4,
 "nbformat_minor": 5
}
